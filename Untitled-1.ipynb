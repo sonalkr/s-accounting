{
 "cells": [
  {
   "cell_type": "code",
   "execution_count": 1,
   "metadata": {},
   "outputs": [],
   "source": [
    "import json\n",
    "import pprint\n",
    "pp = pprint.PrettyPrinter(indent=2)"
   ]
  },
  {
   "cell_type": "code",
   "execution_count": 7,
   "metadata": {},
   "outputs": [],
   "source": [
    "\n",
    "data= {}\n",
    "with open('./model_dumps.json', 'r') as f:\n",
    "    data = json.load(f)\n",
    "# pp.pprint(data)"
   ]
  },
  {
   "cell_type": "code",
   "execution_count": 14,
   "metadata": {},
   "outputs": [
    {
     "name": "stdout",
     "output_type": "stream",
     "text": [
      "/****  account  *****/\n",
      "['account_under', 'account_general_option', 'account_detail_nominal', 'account_detail_personal_tax', 'link_inventory__account__voucher', 'transaction_single']\n",
      "\n",
      "/****  link_tag__all_table  *****/\n",
      "['tag']\n",
      "\n",
      "/****  link_inventory__account__voucher  *****/\n",
      "['account', 'inventory', 'transaction_entry', 'voucher']\n",
      "\n",
      "/****  transaction_single  *****/\n",
      "['account', 'transaction_entry']\n",
      "\n",
      "/****  account_detail_nominal_gst  *****/\n",
      "['unit_rate', 'account_detail_nominal']\n",
      "\n",
      "/****  inventory  *****/\n",
      "['unit_rate', 'unit_rate', 'inventory_under', 'link_inventory__account__voucher']\n",
      "\n",
      "/****  voucher  *****/\n",
      "['voucher_type', 'link_inventory__account__voucher', 'transaction_entry']\n",
      "\n",
      "/****  transaction_entry  *****/\n",
      "['voucher', 'link_inventory__account__voucher', 'transaction_single']\n",
      "\n",
      "/****  inventory_under  *****/\n",
      "['inventory']\n",
      "\n",
      "/****  account_general_option  *****/\n",
      "['account']\n",
      "\n",
      "/****  account_detail_nominal_tds_tcs  *****/\n",
      "['account_detail_nominal']\n",
      "\n",
      "/****  unit_rate_conversion  *****/\n",
      "['unit_rate', 'unit_rate']\n",
      "\n",
      "/****  account_detail_nominal  *****/\n",
      "['account_detail_nominal_tds_tcs', 'account_detail_nominal_gst', 'account']\n",
      "\n",
      "/****  voucher_type  *****/\n",
      "['voucher']\n",
      "\n",
      "/****  account_detail_personal_tax  *****/\n",
      "['account']\n",
      "\n",
      "/****  tag  *****/\n",
      "['link_tag__all_table']\n",
      "\n",
      "/****  account_under  *****/\n",
      "['account']\n",
      "\n",
      "/****  unit_rate  *****/\n",
      "[]\n",
      "\n"
     ]
    }
   ],
   "source": [
    "from itertools import combinations\n",
    "for m in data:\n",
    "    print(\"/****  \" + m[0][\"model_name\"]+\"  *****/\")\n",
    "    d = []\n",
    "    for r in m[0][\"relationship\"]:\n",
    "        d.append(r[\"model_name\"])\n",
    "    for r in m[0][\"ref_relationship\"]:\n",
    "        d.append(r[\"model_name\"])\n",
    "    print(d)\n",
    "\n",
    "    print(\"-------------\")\n",
    "    print(\"-------------\")\n",
    "    print()"
   ]
  }
 ],
 "metadata": {
  "kernelspec": {
   "display_name": ".venv",
   "language": "python",
   "name": "python3"
  },
  "language_info": {
   "codemirror_mode": {
    "name": "ipython",
    "version": 3
   },
   "file_extension": ".py",
   "mimetype": "text/x-python",
   "name": "python",
   "nbconvert_exporter": "python",
   "pygments_lexer": "ipython3",
   "version": "3.10.6"
  },
  "orig_nbformat": 4
 },
 "nbformat": 4,
 "nbformat_minor": 2
}
